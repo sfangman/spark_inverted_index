{
 "cells": [
  {
   "cell_type": "markdown",
   "metadata": {},
   "source": [
    "# MSDS610 - Spark Inverted Index Project\n",
    "Sam Fangman"
   ]
  },
  {
   "cell_type": "markdown",
   "metadata": {},
   "source": [
    "### Files Included\n",
    "\n",
    "1. `bigquery_stackoverflow_query.sql` \n",
    "    - Query used to gather the Stack Overflow data from BigQuery\n",
    "2. `bq-results-20200301-stackoverflow.csv`\n",
    "    - Results of BigQuery in csv form\n",
    "3. `sf-spark-inverted-index.ipynb`\n",
    "    - Jupyter notebook file used to create the inverted index from data with PySpark\n",
    "4. `sf_inverted_index.json`\n",
    "    - Initial output inverted index file.\n",
    "5. `sf_inverted_index_formatted.json`\n",
    "    - Final output of the inverted index file after re-formatting"
   ]
  },
  {
   "cell_type": "markdown",
   "metadata": {},
   "source": [
    "### Problem Statement\n",
    "\n",
    "*Query Stack Overflow’s data API to create and download a dataset. Next, use Spark, Jupyter notebook, and your cluster to create an inverted index listing all the Post IDs where each tag appears. To limit the query time and data transfer, please only use data from one year (e.g. 2017)*"
   ]
  },
  {
   "cell_type": "markdown",
   "metadata": {},
   "source": [
    "### Solution\n",
    "\n",
    "To solve the problem at hand, I first had to gather the relevant data. To gather this data, I queried the public stackoverlow [dataset](https://console.cloud.google.com/marketplace/details/stack-exchange/stack-overflow) in Google BigQuery. I crafted my query using standard SQL language, pulling from the `posts_questions` table (see below or `bigquery_stackoverflow_query.sql` for full query). \n",
    "```sql\n",
    "SELECT\n",
    "  id,\n",
    "  post_type_id,\n",
    "  creation_date,\n",
    "  tags\n",
    "FROM\n",
    "  `bigquery-public-data.stackoverflow.posts_questions`\n",
    "WHERE\n",
    "  creation_date between '2018-01-01' and '2018-01-11'\n",
    "ORDER BY\n",
    "  creation_date asc;\n",
    "```\n",
    "To limit the number of rows returned, I narrowed the date range to a 10 day window in January, 2018. This query still returned nearly 49,000 rows of data. From this query, I discovered that the tags associated with each post were in a pipe-delimited format. I saved the query results in a csv (`bq-results-20200301-stackoverflow.csv`) for further processing using Spark.\n",
    "\n",
    "After I had queried and gathered the dataset, I then set up a clustered environment using GCP Dataproc. This environment was configured to include HDFS (for distributed storage), Spark (for data processing on the distributed dataset), Anaconda (for the Python distribution), and Jupyter (to run interactive notebooks for Spark and Python). Once the infrastructure was properly configured, I loaded my query result csv onto the master node using a git [repository](https://github.com/sfangman/spark_inverted_index) and then passed the csv onto the HDFS storage using the `copyFromLocal` command.\n",
    "\n",
    "I then used the following commands in Python and Spark (PySpark) to create an inverted index from the query results (See comments above each code block)."
   ]
  },
  {
   "cell_type": "markdown",
   "metadata": {},
   "source": [
    "### Python (PySpark) Processing\n",
    "Because I was using a PySpark Kernel, I did not need to import pyspark, I would use the code below if I was running a Python3 kernel"
   ]
  },
  {
   "cell_type": "code",
   "execution_count": 1,
   "metadata": {},
   "outputs": [],
   "source": [
    "# import pyspark\n",
    "# sc = pyspark.SparkContext(appName=\"WordCount\")"
   ]
  },
  {
   "cell_type": "markdown",
   "metadata": {},
   "source": [
    "Import relevant libraries for data processing & visualization"
   ]
  },
  {
   "cell_type": "code",
   "execution_count": 2,
   "metadata": {},
   "outputs": [],
   "source": [
    "import pandas as pd\n",
    "import json\n",
    "from itertools import islice\n",
    "from matplotlib import pyplot as plt"
   ]
  },
  {
   "cell_type": "markdown",
   "metadata": {},
   "source": [
    "Check that the query results from stackoverflow were loaded in HDFS"
   ]
  },
  {
   "cell_type": "code",
   "execution_count": 3,
   "metadata": {},
   "outputs": [
    {
     "name": "stdout",
     "output_type": "stream",
     "text": [
      "Found 2 items\n",
      "-rw-r--r--   2 samuel_j_fangman hadoop    3221023 2020-03-02 17:15 /stackoverflow/bq-results-20200301-stackoverflow.csv\n",
      "drwxr-xr-x   - root             hadoop          0 2020-03-02 17:17 /stackoverflow/sf_inverted_index\n"
     ]
    }
   ],
   "source": [
    "!hdfs dfs -ls /stackoverflow"
   ]
  },
  {
   "cell_type": "markdown",
   "metadata": {},
   "source": [
    "First I explored using a spark dataframe, but found using a traditional rdd would be easier"
   ]
  },
  {
   "cell_type": "code",
   "execution_count": 4,
   "metadata": {},
   "outputs": [],
   "source": [
    "# df = spark.read.format('csv').option('header','true').load('/stackoverflow/bq-results-20200301-stackoverflow.csv')\n",
    "# df.take(5)"
   ]
  },
  {
   "cell_type": "markdown",
   "metadata": {},
   "source": [
    "Loaded the query results into hdfs through the terminal, loaded the file using the `sc.textFile` method"
   ]
  },
  {
   "cell_type": "code",
   "execution_count": 5,
   "metadata": {},
   "outputs": [
    {
     "data": {
      "text/plain": [
       "['id,post_type_id,creation_date,tags',\n",
       " '48046378,1,2018-01-01 00:00:29.247 UTC,python|ctypes',\n",
       " '48046379,1,2018-01-01 00:00:32.377 UTC,python|django|nginx',\n",
       " '48046383,1,2018-01-01 00:01:14.33 UTC,karate',\n",
       " '48046384,1,2018-01-01 00:01:25.093 UTC,ios|swift|protocols']"
      ]
     },
     "execution_count": 5,
     "metadata": {},
     "output_type": "execute_result"
    }
   ],
   "source": [
    "csv_file = sc.textFile('hdfs:///stackoverflow/bq-results-20200301-stackoverflow.csv')\n",
    "csv_file.take(5)"
   ]
  },
  {
   "cell_type": "markdown",
   "metadata": {},
   "source": [
    "Remove the header row using a function I found online (on stack overflow ironically enough)"
   ]
  },
  {
   "cell_type": "code",
   "execution_count": 6,
   "metadata": {},
   "outputs": [
    {
     "data": {
      "text/plain": [
       "['48046378,1,2018-01-01 00:00:29.247 UTC,python|ctypes',\n",
       " '48046379,1,2018-01-01 00:00:32.377 UTC,python|django|nginx',\n",
       " '48046383,1,2018-01-01 00:01:14.33 UTC,karate',\n",
       " '48046384,1,2018-01-01 00:01:25.093 UTC,ios|swift|protocols',\n",
       " '48046386,1,2018-01-01 00:02:28.78 UTC,javascript|angular']"
      ]
     },
     "execution_count": 6,
     "metadata": {},
     "output_type": "execute_result"
    }
   ],
   "source": [
    "csv_file_no_header = csv_file.mapPartitionsWithIndex(lambda idx, it: islice(it, 1, None) if idx == 0 else it)\n",
    "csv_file_no_header.take(5)"
   ]
  },
  {
   "cell_type": "markdown",
   "metadata": {},
   "source": [
    "Used a `map` function to grab the id and relevant tags of the post (tags had to be split further as they were pipe delimited)"
   ]
  },
  {
   "cell_type": "code",
   "execution_count": 7,
   "metadata": {},
   "outputs": [
    {
     "data": {
      "text/plain": [
       "[('48046378', ['python', 'ctypes']),\n",
       " ('48046379', ['python', 'django', 'nginx']),\n",
       " ('48046383', ['karate']),\n",
       " ('48046384', ['ios', 'swift', 'protocols']),\n",
       " ('48046386', ['javascript', 'angular'])]"
      ]
     },
     "execution_count": 7,
     "metadata": {},
     "output_type": "execute_result"
    }
   ],
   "source": [
    "id_taglist = csv_file_no_header.map(lambda x: (x.split(',')[0],x.split(',')[-1].split('|')))\n",
    "id_taglist.take(5)"
   ]
  },
  {
   "cell_type": "markdown",
   "metadata": {},
   "source": [
    "Used a `flatMap` function to flatten the id and tag lists in a reversed fashion, so my return was a list of tuples in the format `[(tag, id)],...`"
   ]
  },
  {
   "cell_type": "code",
   "execution_count": 8,
   "metadata": {},
   "outputs": [
    {
     "data": {
      "text/plain": [
       "[('python', '48046378'),\n",
       " ('ctypes', '48046378'),\n",
       " ('python', '48046379'),\n",
       " ('django', '48046379'),\n",
       " ('nginx', '48046379')]"
      ]
     },
     "execution_count": 8,
     "metadata": {},
     "output_type": "execute_result"
    }
   ],
   "source": [
    "tag_id_pair = id_taglist.flatMap(lambda idtags: [(tag, idtags[0]) for tag in idtags[1]])\n",
    "tag_id_pair.take(5)"
   ]
  },
  {
   "cell_type": "markdown",
   "metadata": {},
   "source": [
    "Used a `reduceByKey` function to reduce the list of tuples by key (tag), appending a comma and the next id to the value field of the `(tag, ids)` tuple\n",
    "\n",
    "*Output is suppressed for brevity*\n",
    "\n",
    "*This output had me scared I did something wrong, but it turns out there are just a million posts out there about python!)*"
   ]
  },
  {
   "cell_type": "code",
   "execution_count": 9,
   "metadata": {},
   "outputs": [],
   "source": [
    "tag_idlist = tag_id_pair.reduceByKey(lambda a,b:a+','+b)\n",
    "# tag_idlist.take(1)"
   ]
  },
  {
   "cell_type": "markdown",
   "metadata": {},
   "source": [
    "Reformatted the data using a map function that converted the dataset to a list of dictionaries with the tag as the key and a list of ids as the values\n",
    "```\n",
    "[\n",
    "    {\n",
    "    \"tag1\":[id1,id2,...]\n",
    "    },\n",
    "    {\n",
    "    \"tag2\":[id1,id2,...]\n",
    "    },\n",
    "    ...\n",
    "]\n",
    "```"
   ]
  },
  {
   "cell_type": "code",
   "execution_count": 10,
   "metadata": {},
   "outputs": [],
   "source": [
    "inverted_index = tag_idlist.map(lambda x: {x[0]:[x[1]]})\n",
    "# inverted_index.take(1)"
   ]
  },
  {
   "cell_type": "markdown",
   "metadata": {},
   "source": [
    "Chained together my various functions used in this project to execute the data transformation in a single line"
   ]
  },
  {
   "cell_type": "code",
   "execution_count": 11,
   "metadata": {},
   "outputs": [],
   "source": [
    "output = csv_file.mapPartitionsWithIndex(lambda idx, it: islice(it, 1, None) if idx == 0 else it)   \\\n",
    "            .map(lambda x: (x.split(',')[0],x.split(',')[-1].split('|')))   \\\n",
    "            .flatMap(lambda idtags: [(tag, idtags[0]) for tag in idtags[1]])   \\\n",
    "            .reduceByKey(lambda a,b:a+','+b)   \\\n",
    "            .map(lambda x: {x[0]:[x[1]]})\n",
    "# output.take(5)"
   ]
  },
  {
   "cell_type": "markdown",
   "metadata": {},
   "source": [
    "Saved output to HDFS "
   ]
  },
  {
   "cell_type": "code",
   "execution_count": 31,
   "metadata": {},
   "outputs": [],
   "source": [
    "output.saveAsTextFile('/stackoverflow/sf_inverted_index')"
   ]
  },
  {
   "cell_type": "markdown",
   "metadata": {},
   "source": [
    "Confirmed that the data had been saved in HDFS"
   ]
  },
  {
   "cell_type": "code",
   "execution_count": 32,
   "metadata": {},
   "outputs": [
    {
     "name": "stdout",
     "output_type": "stream",
     "text": [
      "Found 2 items\n",
      "-rw-r--r--   2 samuel_j_fangman hadoop    3221023 2020-03-02 17:15 /stackoverflow/bq-results-20200301-stackoverflow.csv\n",
      "drwxr-xr-x   - root             hadoop          0 2020-03-02 17:17 /stackoverflow/sf_inverted_index\n"
     ]
    }
   ],
   "source": [
    "!hdfs dfs -ls /stackoverflow"
   ]
  },
  {
   "cell_type": "markdown",
   "metadata": {},
   "source": [
    "Used the `-getmerge` command to merge and copy the output in HDFS to the master node"
   ]
  },
  {
   "cell_type": "code",
   "execution_count": 27,
   "metadata": {},
   "outputs": [],
   "source": [
    "!hdfs dfs -getmerge /stackoverflow/sf_inverted_index /home/samuel_j_fangman/spark_inverted_index/sf_inverted_index.json"
   ]
  },
  {
   "cell_type": "markdown",
   "metadata": {},
   "source": [
    "Confirmed the file was moved to the correct directory"
   ]
  },
  {
   "cell_type": "code",
   "execution_count": 15,
   "metadata": {},
   "outputs": [
    {
     "name": "stdout",
     "output_type": "stream",
     "text": [
      "README.md\t\t\t  bq-results-20200301-stackoverflow.csv\n",
      "bigquery_stackoverflow_query.sql  sf_inverted_index.json\n"
     ]
    }
   ],
   "source": [
    "!ls /home/samuel_j_fangman/spark_inverted_index"
   ]
  },
  {
   "cell_type": "markdown",
   "metadata": {},
   "source": [
    "Loaded the RDD to a Spark DF for data visualization (had to use the pre-formatted RDD to get all of the data to go to Pandas)"
   ]
  },
  {
   "cell_type": "code",
   "execution_count": 43,
   "metadata": {},
   "outputs": [],
   "source": [
    "spark_df = tag_idlist.toDF()\n",
    "# spark_df.head()"
   ]
  },
  {
   "cell_type": "markdown",
   "metadata": {},
   "source": [
    "Loaded the data into a Pandas DF for ease of visualization \n",
    "\n",
    "Applied some basic transformation to give a count of posts associated with each tag"
   ]
  },
  {
   "cell_type": "code",
   "execution_count": 44,
   "metadata": {},
   "outputs": [
    {
     "data": {
      "text/html": [
       "<div>\n",
       "<style scoped>\n",
       "    .dataframe tbody tr th:only-of-type {\n",
       "        vertical-align: middle;\n",
       "    }\n",
       "\n",
       "    .dataframe tbody tr th {\n",
       "        vertical-align: top;\n",
       "    }\n",
       "\n",
       "    .dataframe thead th {\n",
       "        text-align: right;\n",
       "    }\n",
       "</style>\n",
       "<table border=\"1\" class=\"dataframe\">\n",
       "  <thead>\n",
       "    <tr style=\"text-align: right;\">\n",
       "      <th></th>\n",
       "      <th>post_tag</th>\n",
       "      <th>post_ids</th>\n",
       "      <th>post_count</th>\n",
       "    </tr>\n",
       "  </thead>\n",
       "  <tbody>\n",
       "    <tr>\n",
       "      <th>0</th>\n",
       "      <td>javascript</td>\n",
       "      <td>48046386,48046404,48046415,48046482,48046506,4...</td>\n",
       "      <td>51560</td>\n",
       "    </tr>\n",
       "    <tr>\n",
       "      <th>1</th>\n",
       "      <td>python</td>\n",
       "      <td>48046378,48046379,48046391,48046421,48046431,4...</td>\n",
       "      <td>43136</td>\n",
       "    </tr>\n",
       "    <tr>\n",
       "      <th>2</th>\n",
       "      <td>java</td>\n",
       "      <td>48046418,48046448,48046484,48046501,48046524,4...</td>\n",
       "      <td>32894</td>\n",
       "    </tr>\n",
       "    <tr>\n",
       "      <th>3</th>\n",
       "      <td>android</td>\n",
       "      <td>48046603,48046694,48046721,48046776,48046858,4...</td>\n",
       "      <td>29069</td>\n",
       "    </tr>\n",
       "    <tr>\n",
       "      <th>4</th>\n",
       "      <td>php</td>\n",
       "      <td>48046493,48046573,48046620,48046636,48046714,4...</td>\n",
       "      <td>26927</td>\n",
       "    </tr>\n",
       "  </tbody>\n",
       "</table>\n",
       "</div>"
      ],
      "text/plain": [
       "     post_tag                                           post_ids  post_count\n",
       "0  javascript  48046386,48046404,48046415,48046482,48046506,4...       51560\n",
       "1      python  48046378,48046379,48046391,48046421,48046431,4...       43136\n",
       "2        java  48046418,48046448,48046484,48046501,48046524,4...       32894\n",
       "3     android  48046603,48046694,48046721,48046776,48046858,4...       29069\n",
       "4         php  48046493,48046573,48046620,48046636,48046714,4...       26927"
      ]
     },
     "execution_count": 44,
     "metadata": {},
     "output_type": "execute_result"
    }
   ],
   "source": [
    "df = spark_df.toPandas()\n",
    "df.columns = ['post_tag', 'post_ids']\n",
    "df['post_count'] = df['post_ids'].apply(lambda x: len(x))\n",
    "df = df.sort_values(by='post_count', ascending=False).reset_index(drop=True)\n",
    "df.head()"
   ]
  },
  {
   "cell_type": "markdown",
   "metadata": {},
   "source": [
    "Used PyPlot to plot the top 10 tags used in the Jan 1 - Jan 10, 2018 timeline"
   ]
  },
  {
   "cell_type": "code",
   "execution_count": 45,
   "metadata": {},
   "outputs": [
    {
     "data": {
      "image/png": "[encoded data removed]",
      "text/plain": [
       "<Figure size 720x504 with 1 Axes>"
      ]
     },
     "metadata": {
      "needs_background": "light"
     },
     "output_type": "display_data"
    }
   ],
   "source": [
    "fig, ax = plt.subplots(figsize=(10,7))\n",
    "plt.bar(df['post_tag'][0:10], df['post_count'][0:10])\n",
    "plt.title('Top Stack Overflow Posts by Tag (Jan 1 - Jan 10, 2018)')\n",
    "plt.ylabel('# of Posts')\n",
    "plt.xticks(rotation=90)\n",
    "plt.show()"
   ]
  },
  {
   "cell_type": "markdown",
   "metadata": {},
   "source": [
    "After further review, I discovered that my json formatting was off using the `rdd.saveAsTextFile` method. \n",
    "\n",
    "As a result, I found another way to save my output by converting my RDD object to a json object using a `map` function with `json.dumps` as an argument and reducing the object to a single string"
   ]
  },
  {
   "cell_type": "code",
   "execution_count": 23,
   "metadata": {},
   "outputs": [],
   "source": [
    "out_json = output.map(json.dumps)   \\\n",
    "            .reduce(lambda x,y:x+',\\n'+y)"
   ]
  },
  {
   "cell_type": "markdown",
   "metadata": {},
   "source": [
    "Finally, I wrote the json string to a file in my master node"
   ]
  },
  {
   "cell_type": "code",
   "execution_count": 24,
   "metadata": {},
   "outputs": [],
   "source": [
    "with open('/home/samuel_j_fangman/spark_inverted_index/sf_inverted_index_formatted.json','w') as f:\n",
    "    f.write(out_json)"
   ]
  },
  {
   "cell_type": "markdown",
   "metadata": {},
   "source": [
    "Verified that the file was created in the correct directory"
   ]
  },
  {
   "cell_type": "code",
   "execution_count": 22,
   "metadata": {},
   "outputs": [
    {
     "name": "stdout",
     "output_type": "stream",
     "text": [
      "README.md\t\t\t       sf-spark-inverted-index.ipynb\n",
      "bigquery_stackoverflow_query.sql       sf_inverted_index.json\n",
      "bq-results-20200301-stackoverflow.csv  sf_inverted_index_formatted.json\n"
     ]
    }
   ],
   "source": [
    "!ls /home/samuel_j_fangman/spark_inverted_index"
   ]
  },
  {
   "cell_type": "markdown",
   "metadata": {},
   "source": [
    "The result of this analysis was the `sf_inverted_index_formatted.json` file which contains the formatted inverted index."
   ]
  },
  {
   "cell_type": "markdown",
   "metadata": {},
   "source": [
    "### Reflections and Lessons Learned\n",
    "\n",
    "For me, this project displayed the power of both cloud computing and distributed computing. The suite of tools offered by GCP made the infrastructure associated with this project an afterthought. The Dataproc instance used to create the HDFS/Spark cluster only took around a minute to spin up and then was ready to go, with web interfaces pre-configured for Jupyter Lab. This type of setup would be ideal for smaller organizations that do not have the capital available to invest in on-premise resources. Further, it was interesting to work with the public datasets in BigQuery. They have a good number of interesting data sources available that only need a quick SQL query to get results. \n",
    "\n",
    "This project also displayed the power of Spark for processing large datasets. The dataset used in this example was not massive (~50,000 rows), but still was at a size where traditional processing using loops would be far more time consuming. By loading the data into distributed memory (RDDs), each command executed on the dataset took only a few seconds tops. It was also interesting to work with PySpark as a functional programming language where commands can be chained together in a single call. This seems like it would be a super useful function when scripting with PySpark. Moving forward, I would be interested to see how Spark would perform on truly large datasets in the range of GB-TB in volume.  "
   ]
  }
 ],
 "metadata": {
  "kernelspec": {
   "display_name": "Python 3",
   "language": "python",
   "name": "python3"
  },
  "language_info": {
   "codemirror_mode": {
    "name": "ipython",
    "version": 3
   },
   "file_extension": ".py",
   "mimetype": "text/x-python",
   "name": "python",
   "nbconvert_exporter": "python",
   "pygments_lexer": "ipython3",
   "version": "3.7.6"
  }
 },
 "nbformat": 4,
 "nbformat_minor": 4
}
